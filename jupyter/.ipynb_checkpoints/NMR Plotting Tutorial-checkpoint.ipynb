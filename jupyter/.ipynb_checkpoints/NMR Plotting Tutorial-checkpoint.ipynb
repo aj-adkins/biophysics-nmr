{
 "cells": [
  {
   "cell_type": "markdown",
   "metadata": {},
   "source": [
    "# NMR Plotting Tutorial \n",
    "This tutorial will go through the steps for plotting 2d NMR data using nmrglue and matplotlib."
   ]
  },
  {
   "cell_type": "markdown",
   "metadata": {},
   "source": [
    "### Setup and basic plotting"
   ]
  },
  {
   "cell_type": "markdown",
   "metadata": {},
   "source": [
    "First, the requisite libraries need to be imported. If you don't have these libraries, they can be easily installed with pip or conda. "
   ]
  },
  {
   "cell_type": "code",
   "execution_count": null,
   "metadata": {},
   "outputs": [],
   "source": [
    "import nmrglue as ng\n",
    "import matplotlib.pyplot as plt"
   ]
  },
  {
   "cell_type": "markdown",
   "metadata": {},
   "source": [
    "Next, we load the NMR data:"
   ]
  },
  {
   "cell_type": "code",
   "execution_count": null,
   "metadata": {},
   "outputs": [],
   "source": [
    "dic, data = ng.pipe.read('test.ft2')"
   ]
  },
  {
   "cell_type": "markdown",
   "metadata": {},
   "source": [
    " Before plotting the data, we need to convert the units to ppm. This can be done by using nmrglue's unit conversion object. "
   ]
  },
  {
   "cell_type": "code",
   "execution_count": null,
   "metadata": {},
   "outputs": [],
   "source": [
    "uc_x = ng.pipe.make_uc(dic, data, dim=1)\n",
    "uc_y = ng.pipe.make_uc(dic, data, dim=0)\n",
    "x0, x1 = uc_x.ppm_limits()\n",
    "y0, y1 = uc_y.ppm_limits()"
   ]
  },
  {
   "cell_type": "markdown",
   "metadata": {},
   "source": [
    "Now, we can set up our contour plot. First, we need to set up the parameters that will define the contour plot. The contour start may need to be tweaked depending on the specific dataset being used."
   ]
  },
  {
   "cell_type": "code",
   "execution_count": null,
   "metadata": {},
   "outputs": [],
   "source": [
    "contour_start   = 30000    # contour level start value\n",
    "contour_num     = 20       # number of contour levels\n",
    "contour_factor  = 1.7      # scaling factor between contour levels\n",
    "\n",
    "cl = [contour_start * contour_factor ** x for x in range(contour_num)]"
   ]
  },
  {
   "cell_type": "markdown",
   "metadata": {},
   "source": [
    "Finally, we can set up the matplotlib figure and plot the data. The values that we :"
   ]
  },
  {
   "cell_type": "code",
   "execution_count": null,
   "metadata": {},
   "outputs": [],
   "source": [
    "fig = plt.figure(figsize=(20, 10))\n",
    "ax = fig.add_subplot(111)\n",
    "\n",
    "ax.contour(data, cl, extent=(x0, x1, y0, y1), colors='darkblue')\n",
    "\n",
    "ax.yaxis.set_label_position(\"right\")\n",
    "ax.yaxis.tick_right()\n",
    "ax.set_ylabel(\"15N (ppm)\")\n",
    "ax.set_xlabel(\"1H (ppm)\")\n",
    "plt.gca().invert_xaxis()\n",
    "plt.gca().invert_yaxis()\n",
    "plt.grid()\n",
    "plt.show()"
   ]
  },
  {
   "cell_type": "markdown",
   "metadata": {},
   "source": [
    "As is customary with NMR spectra, the axes are inverted and placed on the right and bottom sides of the plot. In this specific case, the direct dimension is 1H and the indirect dimension is 15N, but this could vary depending on the experiment."
   ]
  },
  {
   "cell_type": "markdown",
   "metadata": {},
   "source": [
    "### Peak detection"
   ]
  },
  {
   "cell_type": "markdown",
   "metadata": {},
   "source": [
    "nmglue also has the ability to automatically detect peaks in the NMR spectrum, which can then be plotted or exported as a list of coordinates."
   ]
  },
  {
   "cell_type": "code",
   "execution_count": null,
   "metadata": {},
   "outputs": [],
   "source": [
    "pthres = 50000\n",
    "peaks = ng.analysis.peakpick.pick(data, pthres, table=True, algorithm='connected', msep=[0.5,1.5], cluster=True)"
   ]
  },
  {
   "cell_type": "markdown",
   "metadata": {},
   "source": [
    "The pthres variable determines the threshold level at which a peak will be considered valid. This specific value works for this dataset, but it will probably be different for your own data. There are multiple other parameters that can be changed within the peak-picking function, but I have found that this specific combination works best in many cases. To learn more about the different parameters, visit the nmrglue [documentation](https://nmrglue.readthedocs.io/en/latest/reference/generated/nmrglue.analysis.peakpick.pick.html#nmrglue.analysis.peakpick.pick)."
   ]
  },
  {
   "cell_type": "markdown",
   "metadata": {},
   "source": [
    "Just like our original contour plot, the peak data must be converted to ppm units in order to be correct. We can do this by reusing the unit conversion object we created earlier. "
   ]
  },
  {
   "cell_type": "code",
   "execution_count": null,
   "metadata": {},
   "outputs": [],
   "source": [
    "peaks_x_ppm = [uc_x.ppm(i) for i in peaks['X_AXIS']]\n",
    "peaks_y_ppm = [uc_y.ppm(i) for i in peaks['Y_AXIS']]"
   ]
  },
  {
   "cell_type": "markdown",
   "metadata": {},
   "source": [
    "Now we can plot the peaks on top of the original contour plot as a scatter plot. If everything is correct, the peaks should appear directly on top of the contour peaks. "
   ]
  },
  {
   "cell_type": "code",
   "execution_count": null,
   "metadata": {},
   "outputs": [],
   "source": [
    "fig = plt.figure(figsize=(20, 10))\n",
    "ax = fig.add_subplot(111)\n",
    "\n",
    "ax.contour(data, cl, extent=(x0, x1, y0, y1), colors='darkblue')\n",
    "ax.scatter(peaks_x_ppm, peaks_y_ppm, color='red')\n",
    "\n",
    "ax.yaxis.set_label_position(\"right\")\n",
    "ax.yaxis.tick_right()\n",
    "ax.set_ylabel(\"15N (ppm)\")\n",
    "ax.set_xlabel(\"1H (ppm)\")\n",
    "plt.gca().invert_xaxis()\n",
    "plt.gca().invert_yaxis()\n",
    "plt.grid()\n",
    "plt.show()"
   ]
  },
  {
   "cell_type": "markdown",
   "metadata": {},
   "source": [
    "For analysis purposes, it is also useful to be able to export the peak locations as a csv file. The easiest way to do this is to convert the peaks into a pandas data frame, and then use the pandas to_csv function to export it. Of course, we first need to import pandas to do this."
   ]
  },
  {
   "cell_type": "code",
   "execution_count": null,
   "metadata": {},
   "outputs": [],
   "source": [
    "import pandas as pd\n",
    "\n",
    "peaks_df = pd.DataFrame(peaks)\n",
    "peaks_df.to_csv('peaks_list.csv')"
   ]
  },
  {
   "cell_type": "markdown",
   "metadata": {},
   "source": [
    "The peaks will then be saved as a csv file in the local directory. "
   ]
  },
  {
   "cell_type": "markdown",
   "metadata": {},
   "source": [
    "### 1D slices of data"
   ]
  },
  {
   "cell_type": "markdown",
   "metadata": {},
   "source": [
    "Oftentimes, it is useful to see one-dimensional slices of the two-dimensional data. The following code will outline how to superimpose a 1D slice on top of the contour plot."
   ]
  },
  {
   "cell_type": "code",
   "execution_count": null,
   "metadata": {},
   "outputs": [],
   "source": [
    "y_level = 119.3                                        # ppm level of desired slice\n",
    "\n",
    "slice_x = [uc_x.ppm(i) for i in range(data.shape[1])]  # x values will just be the width of the data\n",
    "slice_int = round(uc_y.f(y_level, 'PPM'))              # y level is converted back to frequency and rounded to an integer\n",
    "slice_y = data.real[slice_int, :]                       # this integer is used to specify the slice index from the NMR data\n",
    "slice_y = uc_y.ppm(slice_y)                             # y values are this data slice converted back to ppm\n",
    "slice_y /= 3000                                        # vertical data is scaled down by a factor of 3000 (can be any value)\n",
    "slice_y += y_level                                     # data is vertically translated to the corresponding level on the contour plot"
   ]
  },
  {
   "cell_type": "markdown",
   "metadata": {},
   "source": [
    "Now that the data is specified for the slice, it can be plotted with the contour plot."
   ]
  },
  {
   "cell_type": "code",
   "execution_count": null,
   "metadata": {},
   "outputs": [],
   "source": [
    "fig = plt.figure(figsize=(20, 10))\n",
    "ax = fig.add_subplot(111)\n",
    "\n",
    "ax.contour(data, cl, extent=(x0, x1, y0, y1), colors='darkblue')\n",
    "ax.plot(slice_x, slice_y, color='black')\n",
    "\n",
    "ax.yaxis.set_label_position(\"right\")\n",
    "ax.yaxis.tick_right()\n",
    "ax.set_ylabel(\"15N (ppm)\")\n",
    "ax.set_xlabel(\"1H (ppm)\")\n",
    "plt.gca().invert_xaxis()\n",
    "plt.gca().invert_yaxis()\n",
    "plt.grid()\n",
    "plt.show()"
   ]
  },
  {
   "cell_type": "markdown",
   "metadata": {},
   "source": [
    "The same can be easily done for vertical slices:"
   ]
  },
  {
   "cell_type": "code",
   "execution_count": null,
   "metadata": {},
   "outputs": [],
   "source": [
    "x_level = 10.1\n",
    "\n",
    "slice_y = [uc_y.ppm(i) for i in range(data.shape[0])]  \n",
    "slice_int = round(uc_x.f(x_level, 'PPM'))              \n",
    "slice_x = data.real[: , slice_int]                       \n",
    "slice_x = uc_x.ppm(slice_x)                             \n",
    "slice_x /= 3000                                        \n",
    "slice_x += x_level          "
   ]
  },
  {
   "cell_type": "code",
   "execution_count": null,
   "metadata": {},
   "outputs": [],
   "source": [
    "fig = plt.figure(figsize=(20, 10))\n",
    "ax = fig.add_subplot(111)\n",
    "\n",
    "ax.contour(data, cl, extent=(x0, x1, y0, y1), colors='darkblue')\n",
    "ax.plot(slice_x, slice_y, color='black')\n",
    "\n",
    "ax.yaxis.set_label_position(\"right\")\n",
    "ax.yaxis.tick_right()\n",
    "ax.set_ylabel(\"15N (ppm)\")\n",
    "ax.set_xlabel(\"1H (ppm)\")\n",
    "plt.gca().invert_xaxis()\n",
    "plt.gca().invert_yaxis()\n",
    "plt.grid()\n",
    "plt.show()"
   ]
  }
 ],
 "metadata": {
  "kernelspec": {
   "display_name": "Python 3",
   "language": "python",
   "name": "python3"
  },
  "language_info": {
   "codemirror_mode": {
    "name": "ipython",
    "version": 3
   },
   "file_extension": ".py",
   "mimetype": "text/x-python",
   "name": "python",
   "nbconvert_exporter": "python",
   "pygments_lexer": "ipython3",
   "version": "3.8.3"
  }
 },
 "nbformat": 4,
 "nbformat_minor": 4
}
